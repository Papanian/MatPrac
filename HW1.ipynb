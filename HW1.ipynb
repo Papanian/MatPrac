{
 "cells": [
  {
   "cell_type": "code",
   "execution_count": 1,
   "id": "9d28ddae",
   "metadata": {},
   "outputs": [],
   "source": [
    "class Test:\n",
    "    @staticmethod\n",
    "    def assert_equals(a, b, *args, **kwargs):\n",
    "        assert a == b\n",
    "        print('Passed')"
   ]
  },
  {
   "cell_type": "markdown",
   "id": "8c441cc3",
   "metadata": {},
   "source": [
    "# №1 https://edabit.com/challenge/2X2uZysLJ3CpsxLDD"
   ]
  },
  {
   "cell_type": "code",
   "execution_count": 5,
   "id": "6c83ba14",
   "metadata": {},
   "outputs": [],
   "source": [
    "import math\n",
    "\n",
    "\n",
    "def radians_to_degrees(x):\n",
    "    return round(x*180/math.pi, 1)"
   ]
  },
  {
   "cell_type": "code",
   "execution_count": 8,
   "id": "3bf0ec11",
   "metadata": {},
   "outputs": [
    {
     "name": "stdout",
     "output_type": "stream",
     "text": [
      "Passed\n",
      "Passed\n",
      "Passed\n",
      "Passed\n",
      "Passed\n",
      "Passed\n"
     ]
    }
   ],
   "source": [
    "Test.assert_equals(radians_to_degrees(1), 57.3)\n",
    "Test.assert_equals(radians_to_degrees(5), 286.5)\n",
    "Test.assert_equals(radians_to_degrees(7), 401.1)\n",
    "Test.assert_equals(radians_to_degrees(60), 3437.7)\n",
    "Test.assert_equals(radians_to_degrees(100), 5729.6)\n",
    "Test.assert_equals(radians_to_degrees(180), 10313.2)"
   ]
  },
  {
   "cell_type": "markdown",
   "id": "da4915d6",
   "metadata": {},
   "source": [
    "# №2 https://edabit.com/challenge/cQJxwn6iCAuEJ3EKd"
   ]
  },
  {
   "cell_type": "code",
   "execution_count": 9,
   "id": "b0f5227b",
   "metadata": {},
   "outputs": [],
   "source": [
    "def digits_count(x):\n",
    "    y = abs(x)//10\n",
    "    if y==0:\n",
    "        return 1\n",
    "    return 1+digits_count(y)"
   ]
  },
  {
   "cell_type": "code",
   "execution_count": 11,
   "id": "38fa0e9a",
   "metadata": {},
   "outputs": [
    {
     "name": "stdout",
     "output_type": "stream",
     "text": [
      "Passed\n",
      "Passed\n",
      "Passed\n",
      "Passed\n",
      "Passed\n",
      "Passed\n",
      "Passed\n",
      "Passed\n",
      "Passed\n",
      "Passed\n",
      "Passed\n",
      "Passed\n",
      "Passed\n"
     ]
    }
   ],
   "source": [
    "from inspect import getsource\n",
    "from re import findall, MULTILINE\n",
    "\n",
    "def check_recursive(fn):\n",
    "  try:\n",
    "    src, n = getsource(fn), fn.__name__\n",
    "    if n == '<lambda>': n = src.split('=')[0].strip()\n",
    "    return len(findall(n, src, flags=MULTILINE)) > 1\n",
    "  except OSError: return True\n",
    "\n",
    "\n",
    "\n",
    "actual_param, expected_param = [ \n",
    "  0, 4666, 544, 121317, 12345, 1289396387328, -1232323, 3463463874638476, \n",
    "  -231.2e6, 1283939312321, -231273683, 3.2e6, 314890e3 \n",
    "],[ \n",
    "\t1, 4, 3, 6, 5, 13, 7, 16, 9, 13, 9, 7, 9 \n",
    "]\n",
    "\n",
    "for i, n in enumerate(actual_param):\n",
    "  Test.assert_equals(digits_count(n), expected_param[i])"
   ]
  },
  {
   "cell_type": "markdown",
   "id": "e32967d3",
   "metadata": {},
   "source": [
    "# №3 https://edabit.com/challenge/BfSj2nBc33aCQrbSg"
   ]
  },
  {
   "cell_type": "code",
   "execution_count": 37,
   "id": "b782e318",
   "metadata": {},
   "outputs": [],
   "source": [
    "def truncatable(x):\n",
    "    r=x \n",
    "    l=str(x)\n",
    "    if \"0\" in l:\n",
    "        return False\n",
    "    for i in range(0, len(str(x))):\n",
    "        r=r//10\n",
    "        k = 0\n",
    "        if r==1:\n",
    "            rt=False\n",
    "            break \n",
    "        for j in range(2, r // 2+1):\n",
    "            if (r % j == 0):\n",
    "                k = k+1\n",
    "        if (k <= 0):\n",
    "            rt=True\n",
    "        else:\n",
    "            rt=False\n",
    "            break\n",
    "\n",
    "    for i in range(1, len(l)+1):\n",
    "        l1=int(l[-i:])\n",
    "        k = 0\n",
    "        if l1==1:\n",
    "            lt=False\n",
    "            break \n",
    "        for j in range(2, l1 // 2+1):\n",
    "            if (l1 % j == 0):\n",
    "                k = k+1\n",
    "        if (k <= 0):\n",
    "            lt=True\n",
    "        else:\n",
    "            lt=False\n",
    "            break\n",
    "    if rt==False and lt==True:\n",
    "        return \"left\"\n",
    "        \n",
    "    if rt==True and lt==False:\n",
    "        return \"right\"\n",
    "    if rt==True and lt==True:\n",
    "        return \"both\"\n",
    "    return False"
   ]
  },
  {
   "cell_type": "code",
   "execution_count": 39,
   "id": "00514baa",
   "metadata": {},
   "outputs": [
    {
     "name": "stdout",
     "output_type": "stream",
     "text": [
      "Passed\n",
      "Passed\n",
      "Passed\n",
      "Passed\n",
      "Passed\n",
      "Passed\n",
      "Passed\n",
      "Passed\n",
      "Passed\n",
      "Passed\n",
      "Passed\n",
      "Passed\n",
      "Passed\n"
     ]
    }
   ],
   "source": [
    "Test.assert_equals(truncatable(47), \"left\")\n",
    "Test.assert_equals(truncatable(347), \"left\")\n",
    "Test.assert_equals(truncatable(62383), \"left\")\n",
    "Test.assert_equals(truncatable(79), \"right\")\n",
    "Test.assert_equals(truncatable(7331), \"right\")\n",
    "Test.assert_equals(truncatable(233993), \"right\")\n",
    "Test.assert_equals(truncatable(3797), \"both\")\n",
    "Test.assert_equals(truncatable(739397), \"both\")\n",
    "Test.assert_equals(truncatable(5), \"both\", \"single-digit number treated as both\")\n",
    "Test.assert_equals(truncatable(349), False)\n",
    "Test.assert_equals(truncatable(2317), False, \"the starting number is composite\")\n",
    "Test.assert_equals(truncatable(131), False, \"1 is not a prime\")\n",
    "Test.assert_equals(truncatable(6043), False, \"cannot contain a 0 digit\")"
   ]
  },
  {
   "cell_type": "markdown",
   "id": "c7dca935",
   "metadata": {},
   "source": [
    "# №4 https://edabit.com/challenge/C6pHyc4iN6BNzmhsM "
   ]
  },
  {
   "cell_type": "code",
   "execution_count": 40,
   "id": "f91ea4a7",
   "metadata": {},
   "outputs": [],
   "source": [
    "def poker_hand_ranking(hand):\n",
    "    rank = []\n",
    "    suit = []\n",
    "    for i in hand:\n",
    "        if len(i) == 3:\n",
    "            rank.append(int(i[:2]))\n",
    "            suit.append(i[2])\n",
    "        else:\n",
    "            if i[0]=='J':\n",
    "                rank.append(11)\n",
    "                suit.append(i[1])\n",
    "            if i[0]=='Q':\n",
    "                rank.append(12)\n",
    "                suit.append(i[1])\n",
    "            if i[0]=='K':\n",
    "                rank.append(13)\n",
    "                suit.append(i[1])\n",
    "            if i[0]=='A':\n",
    "                rank.append(14)\n",
    "                suit.append(i[1])\n",
    "            if i[0]!='A' and i[0]!='Q' and i[0]!='K' and i[0]!='J':\n",
    "                rank.append(int(i[0]))\n",
    "                suit.append(i[1])\n",
    "    rank2 = rank\n",
    "    if len(set(suit)) == 1 and sorted(rank)[0]==10:\n",
    "        return \"Royal Flush\"\n",
    "    if len(set(suit)) == 1 and sorted(rank)[4]-sorted(rank)[0]==4:\n",
    "        return \"Straight Flush\"\n",
    "    if len(set(rank)) == 2 and (rank.count(rank[0])==1 or rank.count(rank[0])==4):\n",
    "        return \"Four of a Kind\"\n",
    "    if len(set(rank)) == 2 and (rank.count(rank[0])==2 or rank.count(rank[0])==3):\n",
    "        return  \"Full House\"\n",
    "    if len(set(suit)) == 1:\n",
    "        return \"Flush\"\n",
    "    if sorted(rank)[4]-sorted(rank)[0]==4:\n",
    "        return \"Straight\"\n",
    "    if len(set(rank)) == 3:\n",
    "        if (rank.count(rank[0])==3 or rank.count(rank[1])==3 or rank.count(rank[2])==3):\n",
    "            return \"Three of a Kind\"\n",
    "        else:\n",
    "            return \"Two Pair\"\n",
    "    if len(set(rank)) == 4:\n",
    "        return \"Pair\"\n",
    "    return \"High Card\"\n",
    "   \n"
   ]
  },
  {
   "cell_type": "code",
   "execution_count": 41,
   "id": "6232b90b",
   "metadata": {},
   "outputs": [
    {
     "name": "stdout",
     "output_type": "stream",
     "text": [
      "Passed\n",
      "Passed\n",
      "Passed\n",
      "Passed\n",
      "Passed\n",
      "Passed\n",
      "Passed\n",
      "Passed\n",
      "Passed\n",
      "Passed\n",
      "Passed\n",
      "Passed\n",
      "Passed\n",
      "Passed\n",
      "Passed\n",
      "Passed\n",
      "Passed\n"
     ]
    }
   ],
   "source": [
    "Test.assert_equals(poker_hand_ranking([\"10h\", \"Jh\", \"Qh\", \"Ah\", \"Kh\"]), \"Royal Flush\")\n",
    "Test.assert_equals(poker_hand_ranking([\"3h\", \"5h\", \"Qs\", \"9h\", \"Ad\"]), \"High Card\")\n",
    "Test.assert_equals(poker_hand_ranking([\"10s\", \"10c\", \"8d\", \"10d\", \"10h\"]), \"Four of a Kind\")\n",
    "Test.assert_equals(poker_hand_ranking([\"4h\", \"9s\", \"2s\", \"2d\", \"Ad\"]), \"Pair\")\n",
    "Test.assert_equals(poker_hand_ranking([\"10s\", \"9s\", \"8s\", \"6s\", \"7s\"]), \"Straight Flush\")\n",
    "Test.assert_equals(poker_hand_ranking([\"10c\", \"9c\", \"9s\", \"10s\", \"9h\"]), \"Full House\")\n",
    "Test.assert_equals(poker_hand_ranking([\"8h\", \"2h\", \"8s\", \"3s\", \"3c\"]), \"Two Pair\")\n",
    "Test.assert_equals(poker_hand_ranking([\"Jh\", \"9h\", \"7h\", \"5h\", \"2h\"]), \"Flush\")\n",
    "Test.assert_equals(poker_hand_ranking([\"Ac\", \"Qc\", \"As\", \"Ah\", \"2d\"]), \"Three of a Kind\")\n",
    "Test.assert_equals(poker_hand_ranking([\"Ad\", \"Kd\", \"Qd\", \"Jd\", \"9d\"]), \"Flush\")\n",
    "Test.assert_equals(poker_hand_ranking([\"10h\", \"Jh\", \"Qs\", \"Ks\", \"Ac\"]), \"Straight\")\n",
    "Test.assert_equals(poker_hand_ranking([\"3h\", \"8h\", \"2s\", \"3s\", \"3d\"]), \"Three of a Kind\")\n",
    "Test.assert_equals(poker_hand_ranking([\"4h\", \"Ac\", \"4s\", \"4d\", \"4c\"]), \"Four of a Kind\")\n",
    "Test.assert_equals(poker_hand_ranking([\"3h\", \"8h\", \"2s\", \"3s\", \"2d\"]), \"Two Pair\")\n",
    "Test.assert_equals(poker_hand_ranking([\"8h\", \"8s\", \"As\", \"Qh\", \"Kh\"]), \"Pair\")\n",
    "Test.assert_equals(poker_hand_ranking([\"Js\", \"Qs\", \"10s\", \"Ks\", \"As\"]), \"Royal Flush\")\n",
    "Test.assert_equals(poker_hand_ranking([\"Ah\", \"3s\", \"4d\", \"Js\", \"Qd\"]), \"High Card\")"
   ]
  },
  {
   "cell_type": "code",
   "execution_count": null,
   "id": "eb384c1c",
   "metadata": {},
   "outputs": [],
   "source": []
  }
 ],
 "metadata": {
  "kernelspec": {
   "display_name": "Python 3 (ipykernel)",
   "language": "python",
   "name": "python3"
  },
  "language_info": {
   "codemirror_mode": {
    "name": "ipython",
    "version": 3
   },
   "file_extension": ".py",
   "mimetype": "text/x-python",
   "name": "python",
   "nbconvert_exporter": "python",
   "pygments_lexer": "ipython3",
   "version": "3.9.13"
  }
 },
 "nbformat": 4,
 "nbformat_minor": 5
}
