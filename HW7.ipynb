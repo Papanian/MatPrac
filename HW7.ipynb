{
 "cells": [
  {
   "cell_type": "code",
   "execution_count": 24,
   "id": "b3b14018",
   "metadata": {},
   "outputs": [],
   "source": [
    "import numpy as np\n",
    "from sklearn.datasets import fetch_20newsgroups\n",
    "from sklearn.feature_extraction.text import CountVectorizer\n",
    "from tqdm.auto import tqdm\n",
    "newsgroups_train = fetch_20newsgroups(subset='train', remove=('headers', 'footers', 'quotes'))"
   ]
  },
  {
   "cell_type": "code",
   "execution_count": 25,
   "id": "b551d213",
   "metadata": {},
   "outputs": [],
   "source": [
    "vectorizer = CountVectorizer(lowercase=True, stop_words=\"english\", analyzer='word', binary=True, max_df = 100, min_df = 3)\n",
    "vectorizer.fit(newsgroups_train.data)\n",
    "X_train = vectorizer.fit_transform(newsgroups_train.data)"
   ]
  },
  {
   "cell_type": "code",
   "execution_count": 26,
   "id": "28eddfa2",
   "metadata": {},
   "outputs": [
    {
     "data": {
      "text/plain": [
       "['alt.atheism',\n",
       " 'comp.graphics',\n",
       " 'comp.os.ms-windows.misc',\n",
       " 'comp.sys.ibm.pc.hardware',\n",
       " 'comp.sys.mac.hardware',\n",
       " 'comp.windows.x',\n",
       " 'misc.forsale',\n",
       " 'rec.autos',\n",
       " 'rec.motorcycles',\n",
       " 'rec.sport.baseball',\n",
       " 'rec.sport.hockey',\n",
       " 'sci.crypt',\n",
       " 'sci.electronics',\n",
       " 'sci.med',\n",
       " 'sci.space',\n",
       " 'soc.religion.christian',\n",
       " 'talk.politics.guns',\n",
       " 'talk.politics.mideast',\n",
       " 'talk.politics.misc',\n",
       " 'talk.religion.misc']"
      ]
     },
     "execution_count": 26,
     "metadata": {},
     "output_type": "execute_result"
    }
   ],
   "source": [
    "newsgroups_train.target_names"
   ]
  },
  {
   "cell_type": "code",
   "execution_count": 27,
   "id": "28eeb0c9",
   "metadata": {},
   "outputs": [
    {
     "data": {
      "text/plain": [
       "array([ 0, 10,  6, ...,  3,  1,  8])"
      ]
     },
     "execution_count": 27,
     "metadata": {},
     "output_type": "execute_result"
    }
   ],
   "source": [
    "newsgroups_train.target[20:]"
   ]
  },
  {
   "cell_type": "code",
   "execution_count": 28,
   "id": "6ce0edf3",
   "metadata": {},
   "outputs": [
    {
     "name": "stdout",
     "output_type": "stream",
     "text": [
      "Topic = alt.atheism\n",
      "\n",
      "\n",
      "[...]\n",
      "\n",
      "These don't seem like \"little things\" to me.  At least, they are orders\n",
      "worse than the motto.  Do you think that the motto is a \"little thing\"\n",
      "that will lead to worse things?\n"
     ]
    }
   ],
   "source": [
    "n = 20\n",
    "print('Topic = {0}\\n'.format(newsgroups_train.target_names[newsgroups_train.target[n]]))\n",
    "print(newsgroups_train.data[n])"
   ]
  },
  {
   "cell_type": "code",
   "execution_count": 48,
   "id": "8161942d",
   "metadata": {},
   "outputs": [
    {
     "data": {
      "application/vnd.jupyter.widget-view+json": {
       "model_id": "288c1863559345b7b09e1bb553cbded2",
       "version_major": 2,
       "version_minor": 0
      },
      "text/plain": [
       "  0%|          | 0/80 [00:00<?, ?it/s]"
      ]
     },
     "metadata": {},
     "output_type": "display_data"
    },
    {
     "name": "stdout",
     "output_type": "stream",
     "text": [
      "circuitheckhookampcustomseimpressionfmford600\n",
      "noiseownerthatsreccircuithopinggoalshuhmanufacturersbackup\n",
      "armeniansturkisharmenianarmedarabsoldiersfightingargicserdarsoviet\n",
      "heatelectronicsbrieflypanelsimmscuriousshellpoundspictureshighest\n",
      "65439989568849859584\n",
      "pittsurrenderskepticismintellectgebshamefulchastitydiseasedslcadre\n",
      "tekblewseavicebronxmanhattanbobbebeauchainesankhook\n",
      "nhlfansrangerspittsburghcupplayoffsdetroitwinningicemontreal\n",
      "ridedodridingrearmotorcyclebikeshondawheeltiressteering\n",
      "voltagefactorycamerachangingboyaustindollarsportsindicationsig\n",
      "enforcementprivacyagencieslaunchencryptedescrowdestelephoneorbitproviding\n",
      "oilvoltageaudioelectricstableshitwastecoddiscoveredheat\n",
      "funnywirevisioncornernetterselectronicscuriouskentbbsfinding\n",
      "ahmimamqmlscmwmnwmmc\n",
      "sinheavenspiritholyinterpretationreligionsscripturesexeternalsurely\n",
      "upgrade256cpusetupmicrosoftdefaultx11r5meginstallconfiguration\n",
      "connectlaserlockcontrolledgmtelectricalreasonablylicensepointingsaturday\n",
      "electricalnegativecuriousthanxguaranteeinsurancesleepridlatelyswitzerland\n",
      "mileannoyingcashinsuranceorbitfamiliarchannelmentaldodhelping\n",
      "turnsgeneratedoboeasiestwheelautomaticbatteriesheadsratedspeaker\n"
     ]
    }
   ],
   "source": [
    "def LDA(D, DC, WD):\n",
    "    w_ar, d_ar, kl, pr = np.zeros((WD, 20)), np.zeros((DC, 20)), np.zeros(20), np.zeros(20)\n",
    "    arr = [np.nonzero(D[i])[0] for i in range(DC)]\n",
    "    length = [len(arr[i]) for i in range(DC)] \n",
    "    for d in range(DC):\n",
    "        for w in range(length[d]):\n",
    "            tmp = int(np.floor(20*np.random.rand()))\n",
    "            D[d, arr[d][w]]=tmp+1\n",
    "            kl[tmp]+=1\n",
    "            w_ar[arr[d][w], tmp]+=1\n",
    "            d_ar[d, tmp]+=1\n",
    "    for _ in tqdm(range(80)):\n",
    "        for d in range(DC):\n",
    "            for w in range(length[d]):\n",
    "                kl[D[d, arr[d][w]]-1]-=1\n",
    "                w_ar[arr[d][w], D[d, arr[d][w]]-1]-=1\n",
    "                d_ar[d, D[d, arr[d][w]]-1]-=1\n",
    "                for k in range(20):\n",
    "                    pr[k] = (d_ar[d, k]+1)*(w_ar[arr[d][w], k]+1)/(kl[k]+WD)\n",
    "                D[d, arr[d][w]] = np.random.choice(range(20), 1, p = pr/pr.sum())+1\n",
    "                kl[D[d, arr[d][w]]-1]+=1\n",
    "                w_ar[arr[d][w], D[d, arr[d][w]]-1]+=1\n",
    "                d_ar[d, D[d, arr[d][w]]-1]+=1      \n",
    "    return w_ar\n",
    "\n",
    "words = X_train.shape[1]\n",
    "docs = X_train.shape[0]\n",
    "data = X_train.toarray()\n",
    "res = np.transpose(LDA(data, docs, words))\n",
    "dictionary = vectorizer.inverse_transform([np.ones(words)])[0]\n",
    "for i in range(20):\n",
    "    print(''.join(dictionary[np.argsort(res[i])[-1:-11:-1]]))"
   ]
  },
  {
   "cell_type": "code",
   "execution_count": null,
   "id": "8dcc9a61",
   "metadata": {},
   "outputs": [],
   "source": []
  }
 ],
 "metadata": {
  "kernelspec": {
   "display_name": "Python 3 (ipykernel)",
   "language": "python",
   "name": "python3"
  },
  "language_info": {
   "codemirror_mode": {
    "name": "ipython",
    "version": 3
   },
   "file_extension": ".py",
   "mimetype": "text/x-python",
   "name": "python",
   "nbconvert_exporter": "python",
   "pygments_lexer": "ipython3",
   "version": "3.9.13"
  }
 },
 "nbformat": 4,
 "nbformat_minor": 5
}
