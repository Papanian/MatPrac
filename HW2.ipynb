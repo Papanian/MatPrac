{
 "cells": [
  {
   "cell_type": "code",
   "execution_count": 1,
   "id": "c042d1a2",
   "metadata": {},
   "outputs": [],
   "source": [
    "import numpy as np\n",
    "import math"
   ]
  },
  {
   "cell_type": "markdown",
   "id": "b47d39bc",
   "metadata": {},
   "source": [
    "# №1"
   ]
  },
  {
   "cell_type": "code",
   "execution_count": 2,
   "id": "ba7a2a9d",
   "metadata": {},
   "outputs": [
    {
     "name": "stdout",
     "output_type": "stream",
     "text": [
      "[[0 0 0 0 0]\n",
      " [1 0 0 0 0]\n",
      " [0 2 0 0 0]\n",
      " [0 0 3 0 0]\n",
      " [0 0 0 4 0]]\n"
     ]
    }
   ],
   "source": [
    "print(np.diag([1, 2, 3, 4], -1))"
   ]
  },
  {
   "cell_type": "markdown",
   "id": "eb1d9556",
   "metadata": {},
   "source": [
    "# №2"
   ]
  },
  {
   "cell_type": "code",
   "execution_count": 3,
   "id": "a3ef9cc4",
   "metadata": {},
   "outputs": [
    {
     "name": "stdout",
     "output_type": "stream",
     "text": [
      "[[0.47856928 0.34819496 0.14799753]\n",
      " [0.45224615 0.74006133 0.57072088]\n",
      " [0.75150217 0.51337856 0.70535236]\n",
      " [0.17428112 0.29511667 0.87572993]\n",
      " [0.14796429 0.59283264 0.42878633]\n",
      " [0.92643816 0.05687143 0.91190199]\n",
      " [0.75929908 0.26216721 0.85319571]\n",
      " [0.64582407 0.63611868 0.76457547]\n",
      " [0.87236421 0.38469158 0.72022892]\n",
      " [0.46092878 0.80366146 0.27033579]] \n",
      " [0.47856928 0.45224615 0.51337856 0.29511667 0.42878633 0.91190199\n",
      " 0.26216721 0.63611868 0.38469158 0.46092878]\n"
     ]
    }
   ],
   "source": [
    "a=np.random.random((10, 3))\n",
    "print(a, '\\n', a[range(10), np.abs(a - 0.5).argmin(axis=1)])"
   ]
  },
  {
   "cell_type": "markdown",
   "id": "59179b9b",
   "metadata": {},
   "source": [
    "# №3"
   ]
  },
  {
   "cell_type": "code",
   "execution_count": 4,
   "id": "a729aa64",
   "metadata": {},
   "outputs": [
    {
     "name": "stdout",
     "output_type": "stream",
     "text": [
      "[[0.72582629 0.99306449 0.02938739 0.06497563 0.51046025 0.15309876]\n",
      " [0.76432514 0.72927599 0.81576132 0.89074686 0.0349263  0.89105415]\n",
      " [0.81587809 0.74621278 0.1715113  0.48088276 0.78442598 0.4705025 ]\n",
      " [0.55500892 0.88782274 0.9871009  0.87164282 0.6806535  0.56807489]\n",
      " [0.68349208 0.31559476 0.56790308 0.32240409 0.74962226 0.45129227]\n",
      " [0.60874463 0.54229955 0.18780173 0.75370989 0.41995872 0.01367992]] [3.03576335 4.15490615 3.51475053 5.10841404 3.93957953 2.83506276]\n"
     ]
    }
   ],
   "source": [
    "a = np.random.random((6, 6))\n",
    "print(a,np.sum(a, axis=1)/np.amax(a,axis=0))"
   ]
  },
  {
   "cell_type": "markdown",
   "id": "12370d72",
   "metadata": {},
   "source": [
    "# №4"
   ]
  },
  {
   "cell_type": "code",
   "execution_count": 5,
   "id": "619fb2ac",
   "metadata": {},
   "outputs": [
    {
     "name": "stdout",
     "output_type": "stream",
     "text": [
      "5\n"
     ]
    }
   ],
   "source": [
    "x = np.array([6, 2, 0, 3, 0, 0, 5, 7, 0])\n",
    "print(np.max(x[1:][(x==0)[:-1]]))"
   ]
  },
  {
   "cell_type": "markdown",
   "id": "8a3fc00d",
   "metadata": {},
   "source": [
    "# №5"
   ]
  },
  {
   "cell_type": "code",
   "execution_count": 6,
   "id": "29d313e9",
   "metadata": {},
   "outputs": [
    {
     "name": "stdout",
     "output_type": "stream",
     "text": [
      "[2. 2. 2. 2. 1. 4. 1. 1. 2. 1.]\n"
     ]
    }
   ],
   "source": [
    "x = np.ones(10)\n",
    "i = np.array([0, 1, 2, 3, 5, 5, 5, 8])\n",
    "for j in range(len(i)) :\n",
    "    x[i[j]]+=1\n",
    "print(x)"
   ]
  },
  {
   "cell_type": "markdown",
   "id": "01e126b7",
   "metadata": {},
   "source": [
    "# №6"
   ]
  },
  {
   "cell_type": "markdown",
   "id": "380d9fbd",
   "metadata": {},
   "source": [
    "1) np.round(array)\n",
    "\n",
    "2) np.around(array)"
   ]
  },
  {
   "cell_type": "markdown",
   "id": "87d958d5",
   "metadata": {},
   "source": [
    "# №7"
   ]
  },
  {
   "cell_type": "code",
   "execution_count": 42,
   "id": "8866ab70",
   "metadata": {},
   "outputs": [],
   "source": [
    "from sklearn.datasets import fetch_openml\n",
    "images, labels = fetch_openml('mnist_784', return_X_y=True, as_frame=False)\n",
    "def kNN(train_X, train_Y, test_X, k):\n",
    "    return  np.vectorize(lambda ii: str(np.bincount(train_Y[np.argsort(np.vectorize(lambda i, j: np.linalg.norm(test_X[i]-train_X[j]))(ii, range(len(train_X))))[:k]].astype(int)).argmax()))(range(len(test_X)))"
   ]
  },
  {
   "cell_type": "markdown",
   "id": "639a537f",
   "metadata": {},
   "source": [
    "# №8"
   ]
  },
  {
   "cell_type": "code",
   "execution_count": 48,
   "id": "f568c769",
   "metadata": {},
   "outputs": [
    {
     "name": "stdout",
     "output_type": "stream",
     "text": [
      "Результат: ['8' '9' '0' '1' '5' '7' '4' '5' '6' '7' '8' '0' '1' '2' '3' '4' '7' '8'\n",
      " '4' '7' '8' '6' '9' '1' '4' '5' '8' '4' '4' '7' '0' '1' '9' '2' '8' '7'\n",
      " '8' '2' '6' '0' '6' '5' '3' '3' '8' '9' '1' '4' '0' '6' '1' '0' '0' '0'\n",
      " '3' '1' '1' '7' '7' '5' '4' '6' '0' '7' '0' '3' '6' '8' '7' '1' '5' '2'\n",
      " '4' '4' '4' '2' '6' '4' '1' '7' '3' '6' '5' '0' '1' '7' '3' '4' '5' '6'\n",
      " '7' '0' '4' '0' '1' '2' '3' '4' '5' '6']\n",
      "Истинные номера: ['8' '9' '0' '1' '2' '3' '4' '5' '6' '7' '8' '0' '1' '2' '3' '4' '7' '8'\n",
      " '9' '7' '8' '6' '4' '1' '9' '3' '8' '4' '4' '7' '0' '1' '9' '2' '8' '7'\n",
      " '8' '2' '6' '0' '6' '5' '3' '3' '3' '9' '1' '4' '0' '6' '1' '0' '0' '6'\n",
      " '2' '1' '1' '7' '7' '8' '4' '6' '0' '7' '0' '3' '6' '8' '7' '1' '5' '2'\n",
      " '4' '9' '4' '3' '6' '4' '1' '7' '2' '6' '5' '0' '1' '2' '3' '4' '5' '6'\n",
      " '7' '8' '9' '0' '1' '2' '3' '4' '5' '6']\n",
      "Точность: 0.84\n",
      "Оптимальное k: 2\n"
     ]
    }
   ],
   "source": [
    "train_size = 300\n",
    "train_images = images[:train_size]\n",
    "train_labels = labels[:train_size]\n",
    "test_size = 100\n",
    "test_images = images[-test_size:]\n",
    "test_labels = labels[-test_size:]\n",
    "def accuracy(Number_true, Number_result):\n",
    "    acc = 0\n",
    "    for i in range(len(Number_true)):\n",
    "        if Number_true[i] == Number_result[i]:\n",
    "            acc += 1\n",
    "    return acc/len(Number_true)\n",
    "max = -1\n",
    "for l in range(1,200):\n",
    "    if accuracy(test_labels, kNN(train_images, train_labels, test_images, l)) > max:\n",
    "        max = accuracy(test_labels, kNN(train_images, train_labels, test_images, l))\n",
    "        k = l\n",
    "print(\"Результат:\",kNN(train_images, train_labels, test_images, k))\n",
    "print(\"Истинные номера:\",test_labels)\n",
    "print(\"Точность:\",max)\n",
    "print(\"Оптимальное k:\",k)"
   ]
  },
  {
   "cell_type": "code",
   "execution_count": null,
   "id": "76e29c2c",
   "metadata": {},
   "outputs": [],
   "source": []
  }
 ],
 "metadata": {
  "kernelspec": {
   "display_name": "Python 3 (ipykernel)",
   "language": "python",
   "name": "python3"
  },
  "language_info": {
   "codemirror_mode": {
    "name": "ipython",
    "version": 3
   },
   "file_extension": ".py",
   "mimetype": "text/x-python",
   "name": "python",
   "nbconvert_exporter": "python",
   "pygments_lexer": "ipython3",
   "version": "3.9.13"
  }
 },
 "nbformat": 4,
 "nbformat_minor": 5
}
